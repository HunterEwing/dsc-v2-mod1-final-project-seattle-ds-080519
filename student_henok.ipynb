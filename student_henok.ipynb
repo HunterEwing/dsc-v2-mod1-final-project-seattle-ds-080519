{
 "cells": [
  {
   "cell_type": "markdown",
   "metadata": {},
   "source": [
    "## Final Project Submission\n",
    "\n",
    "Please fill out:\n",
    "* Student name: \n",
    "* Student pace: self paced / part time / full time\n",
    "* Scheduled project review date/time: \n",
    "* Instructor name: \n",
    "* Blog post URL:\n"
   ]
  },
  {
   "cell_type": "code",
   "execution_count": 1,
   "metadata": {},
   "outputs": [],
   "source": [
    "# Your code here - remember to use markdown cells for comments as well!"
   ]
  },
  {
   "cell_type": "code",
   "execution_count": 2,
   "metadata": {},
   "outputs": [],
   "source": [
    "import pandas as pd\n",
    "import numpy as np\n",
    "import matplotlib.pyplot as plt\n",
    "%matplotlib inline"
   ]
  },
  {
   "cell_type": "code",
   "execution_count": 3,
   "metadata": {},
   "outputs": [],
   "source": [
    "df = pd.read_csv(\"kc_house_data.csv\")"
   ]
  },
  {
   "cell_type": "code",
   "execution_count": 4,
   "metadata": {},
   "outputs": [],
   "source": [
    "# df.head()"
   ]
  },
  {
   "cell_type": "code",
   "execution_count": 5,
   "metadata": {},
   "outputs": [],
   "source": [
    "# df[['yr_renovated']].head()"
   ]
  },
  {
   "cell_type": "code",
   "execution_count": 6,
   "metadata": {},
   "outputs": [],
   "source": [
    "# df.info()"
   ]
  },
  {
   "cell_type": "code",
   "execution_count": 7,
   "metadata": {},
   "outputs": [],
   "source": [
    "# df.T"
   ]
  },
  {
   "cell_type": "code",
   "execution_count": 8,
   "metadata": {},
   "outputs": [],
   "source": [
    "#cleaning up sqft_basement data\n",
    "clean = df.replace(\"?\", np.nan)"
   ]
  },
  {
   "cell_type": "code",
   "execution_count": 9,
   "metadata": {},
   "outputs": [],
   "source": [
    "clean['sqft_basement'] = clean['sqft_basement'].replace('?',np.nan).astype(float)"
   ]
  },
  {
   "cell_type": "code",
   "execution_count": 10,
   "metadata": {},
   "outputs": [],
   "source": [
    "# type changes of two columns\n",
    "clean[\"sqft_basement\"].astype(float)\n",
    "clean[\"date\"] = pd.to_datetime(clean[\"date\"])"
   ]
  },
  {
   "cell_type": "code",
   "execution_count": 11,
   "metadata": {},
   "outputs": [],
   "source": [
    "# clean.info()"
   ]
  },
  {
   "cell_type": "code",
   "execution_count": 12,
   "metadata": {},
   "outputs": [],
   "source": [
    "#exploring missing values\n",
    "# clean.isna().sum()"
   ]
  },
  {
   "cell_type": "code",
   "execution_count": 13,
   "metadata": {},
   "outputs": [],
   "source": [
    "# clean.isnull().sum()"
   ]
  },
  {
   "cell_type": "code",
   "execution_count": 14,
   "metadata": {},
   "outputs": [],
   "source": [
    "#exploring missing values of 'view'\n",
    "# condition_view=clean['view']!=np.nan\n",
    "# clean.loc[condition_view,'view'].describe()   "
   ]
  },
  {
   "cell_type": "code",
   "execution_count": 15,
   "metadata": {},
   "outputs": [
    {
     "data": {
      "image/png": "[encoded data removed]",
      "text/plain": [
       "<Figure size 432x288 with 1 Axes>"
      ]
     },
     "metadata": {
      "needs_background": "light"
     },
     "output_type": "display_data"
    }
   ],
   "source": [
    "dataframe=clean.loc[clean['view'].isnull()==True]\n",
    "plt.hist(dataframe['price'],bins=15)\n",
    "plt.hist(clean.loc[clean['price']>4500000]['price'],bins=20,color='red')\n",
    "plt.xlabel\n",
    "plt.xlabel('price')\n",
    "plt.ylabel('count')\n",
    "plt.show()    #this is the reason why the points were not dropped as the price for the missing 'view' values\n",
    "#were concentrated in the extreme ends and we wanted to make sure the points were included in our regression model.\n",
    "# We see that one of the null view homes is one of very few high-value homes, making it useful in predicting the\n",
    "# values on this end of the spectrum\n",
    "\n"
   ]
  },
  {
   "cell_type": "code",
   "execution_count": 16,
   "metadata": {},
   "outputs": [],
   "source": [
    "# clean.columns"
   ]
  },
  {
   "cell_type": "code",
   "execution_count": 17,
   "metadata": {},
   "outputs": [
    {
     "data": {
      "image/png": "[encoded data removed]",
      "text/plain": [
       "<Figure size 432x288 with 1 Axes>"
      ]
     },
     "metadata": {
      "needs_background": "light"
     },
     "output_type": "display_data"
    }
   ],
   "source": [
    "df_sqftbasement=clean.loc[clean['sqft_basement'].isna()==False]\n",
    "\n",
    "plt.hist(df_sqftbasement['price'],bins=80)\n",
    "plt.xlim(400000,4500000)\n",
    "\n",
    "plt.show()"
   ]
  },
  {
   "cell_type": "code",
   "execution_count": 18,
   "metadata": {},
   "outputs": [
    {
     "data": {
      "text/plain": [
       "count    21143.000000\n",
       "mean       291.851724\n",
       "std        442.498337\n",
       "min          0.000000\n",
       "25%          0.000000\n",
       "50%          0.000000\n",
       "75%        560.000000\n",
       "max       4820.000000\n",
       "Name: sqft_basement, dtype: float64"
      ]
     },
     "execution_count": 18,
     "metadata": {},
     "output_type": "execute_result"
    }
   ],
   "source": [
    "df_sqftbasement['sqft_basement'].describe()"
   ]
  },
  {
   "cell_type": "markdown",
   "metadata": {},
   "source": [
    "Since the null sqft_basement transactions are concentrated in the low end of our price (target value), we chose to retain these records and impute the median of 0."
   ]
  },
  {
   "cell_type": "code",
   "execution_count": 19,
   "metadata": {},
   "outputs": [],
   "source": [
    "clean['sqft_basement']=clean['sqft_basement'].replace(np.nan,0)"
   ]
  },
  {
   "cell_type": "code",
   "execution_count": 20,
   "metadata": {},
   "outputs": [],
   "source": [
    "#cleaning yr_innovated\n",
    "# clean.head()"
   ]
  },
  {
   "cell_type": "code",
   "execution_count": 21,
   "metadata": {},
   "outputs": [],
   "source": [
    "# dataframe_yr=clean.loc[clean['yr_renovated'].isnull()].copy()\n",
    "\n",
    "# dataframe_yr.loc[dataframe_yr['yr_renovated'].isna(),'yr_renovated']=(\n",
    "#     dataframe_yr.loc[dataframe_yr['yr_renovated'].isnull(),'yr_built'])\n",
    "# dataframe_yr.head()"
   ]
  },
  {
   "cell_type": "code",
   "execution_count": 22,
   "metadata": {},
   "outputs": [],
   "source": [
    "clean.loc[clean['yr_renovated'].isna(),'yr_renovated']=(\n",
    "    clean.loc[clean['yr_renovated'].isnull(),'yr_built'])\n",
    "\n",
    "clean.loc[clean['yr_renovated']==0,'yr_renovated']=(\n",
    "    clean.loc[clean['yr_renovated']==0,'yr_built'])\n",
    "# clean.head()"
   ]
  },
  {
   "cell_type": "code",
   "execution_count": 23,
   "metadata": {},
   "outputs": [],
   "source": [
    "clean['waterfront_clean']=clean['waterfront']\n",
    "clean.loc[clean['waterfront_clean'].isna(),'waterfront_clean']=0\n",
    "# clean.describe().T"
   ]
  },
  {
   "cell_type": "code",
   "execution_count": 24,
   "metadata": {},
   "outputs": [],
   "source": [
    "# clean.columns"
   ]
  },
  {
   "cell_type": "code",
   "execution_count": 25,
   "metadata": {},
   "outputs": [],
   "source": [
    "# def replace_yr_ren(yr_ren,yr_built):\n",
    "#     \"\"\"takes two lists and if yr_ren is np.nan, it returns yr_built\"\"\"\n",
    "#     output=[]\n",
    "#     for index,year in enumerate(yr_ren):\n",
    "#         if year.isnull() or year==0:\n",
    "#             output.append(yr_built[index])\n",
    "#         else:\n",
    "#             output.append(year)\n",
    "#     return output"
   ]
  },
  {
   "cell_type": "code",
   "execution_count": 26,
   "metadata": {},
   "outputs": [],
   "source": [
    "# clean[['yr_renovated','yr_built']].head()\n"
   ]
  },
  {
   "cell_type": "code",
   "execution_count": 27,
   "metadata": {},
   "outputs": [],
   "source": [
    "# np.nan==None"
   ]
  },
  {
   "cell_type": "code",
   "execution_count": 28,
   "metadata": {},
   "outputs": [],
   "source": [
    "# replace_yr_ren(clean['yr_renovated'],clean['yr_built'])"
   ]
  },
  {
   "cell_type": "code",
   "execution_count": 31,
   "metadata": {},
   "outputs": [],
   "source": [
    "# np.array(replace_yr_ren(clean['yr_renovated'],clean['yr_built'])).value_counts()"
   ]
  },
  {
   "cell_type": "code",
   "execution_count": 32,
   "metadata": {},
   "outputs": [],
   "source": [
    "# clean['yr_rennovated_clean'] = replace_yr_ren(clean['yr_renovated'],clean['yr_built'])\n",
    "# clean.head()"
   ]
  },
  {
   "cell_type": "code",
   "execution_count": 33,
   "metadata": {},
   "outputs": [
    {
     "data": {
      "image/png": "[encoded data removed]",
      "text/plain": [
       "<Figure size 432x288 with 1 Axes>"
      ]
     },
     "metadata": {
      "needs_background": "light"
     },
     "output_type": "display_data"
    }
   ],
   "source": [
    "#graph for the price for the missing 'sqft_basement' values\n",
    "plt.hist(df_sqftbasement['price'],bins=50)\n",
    "plt.show()\n",
    "#the graph shows us the missing sqft_basement are concentrated in low priced homes"
   ]
  },
  {
   "cell_type": "code",
   "execution_count": null,
   "metadata": {},
   "outputs": [],
   "source": []
  },
  {
   "cell_type": "code",
   "execution_count": 34,
   "metadata": {},
   "outputs": [],
   "source": [
    "#we could replace the np.nan values of 'view' with 0 but we would like to take a look..\n",
    "#how the values of price change for the missing values of view\n"
   ]
  },
  {
   "cell_type": "code",
   "execution_count": 35,
   "metadata": {},
   "outputs": [],
   "source": [
    "#creating a flag column for waterfront, first approach\n",
    "clean[\"imputed_waterfront\"] = clean[\"waterfront\"].replace(np.nan, 0)\n",
    "\n",
    "#creating a flag column for waterfront, second approach, needs error resolution\n",
    "#clean[\"imputed_waterfront_2\"] = clean.loc[clean[\"waterfront\"] == np.nan]\n",
    "\n",
    "#imputing waterfront records to median value, which is zero\n",
    "clean[\"waterfront\"].replace(np.nan, 0, inplace = True)"
   ]
  },
  {
   "cell_type": "code",
   "execution_count": 36,
   "metadata": {},
   "outputs": [
    {
     "data": {
      "text/plain": [
       "Index(['id', 'date', 'price', 'bedrooms', 'bathrooms', 'sqft_living',\n",
       "       'sqft_lot', 'floors', 'waterfront', 'view', 'condition', 'grade',\n",
       "       'sqft_above', 'sqft_basement', 'yr_built', 'yr_renovated', 'zipcode',\n",
       "       'lat', 'long', 'sqft_living15', 'sqft_lot15', 'waterfront_clean',\n",
       "       'imputed_waterfront'],\n",
       "      dtype='object')"
      ]
     },
     "execution_count": 36,
     "metadata": {},
     "output_type": "execute_result"
    }
   ],
   "source": [
    "#check if a new column with a headline 'imputed_waterfront' is created\n",
    "clean.columns"
   ]
  },
  {
   "cell_type": "code",
   "execution_count": 37,
   "metadata": {},
   "outputs": [
    {
     "data": {
      "text/plain": [
       "waterfront    0\n",
       "dtype: int64"
      ]
     },
     "execution_count": 37,
     "metadata": {},
     "output_type": "execute_result"
    }
   ],
   "source": [
    "#To view the two columns 'waterfront'\n",
    "clean[['waterfront']].isna().sum()"
   ]
  },
  {
   "cell_type": "code",
   "execution_count": 38,
   "metadata": {},
   "outputs": [
    {
     "data": {
      "text/plain": [
       "0"
      ]
     },
     "execution_count": 38,
     "metadata": {},
     "output_type": "execute_result"
    }
   ],
   "source": [
    "clean['sqft_basement'].isna().sum()"
   ]
  },
  {
   "cell_type": "code",
   "execution_count": 39,
   "metadata": {},
   "outputs": [
    {
     "name": "stdout",
     "output_type": "stream",
     "text": [
      "<class 'pandas.core.frame.DataFrame'>\n",
      "RangeIndex: 21597 entries, 0 to 21596\n",
      "Data columns (total 23 columns):\n",
      "id                    21597 non-null int64\n",
      "date                  21597 non-null datetime64[ns]\n",
      "price                 21597 non-null float64\n",
      "bedrooms              21597 non-null int64\n",
      "bathrooms             21597 non-null float64\n",
      "sqft_living           21597 non-null int64\n",
      "sqft_lot              21597 non-null int64\n",
      "floors                21597 non-null float64\n",
      "waterfront            21597 non-null float64\n",
      "view                  21534 non-null float64\n",
      "condition             21597 non-null int64\n",
      "grade                 21597 non-null int64\n",
      "sqft_above            21597 non-null int64\n",
      "sqft_basement         21597 non-null float64\n",
      "yr_built              21597 non-null int64\n",
      "yr_renovated          21597 non-null float64\n",
      "zipcode               21597 non-null int64\n",
      "lat                   21597 non-null float64\n",
      "long                  21597 non-null float64\n",
      "sqft_living15         21597 non-null int64\n",
      "sqft_lot15            21597 non-null int64\n",
      "waterfront_clean      21597 non-null float64\n",
      "imputed_waterfront    21597 non-null float64\n",
      "dtypes: datetime64[ns](1), float64(11), int64(11)\n",
      "memory usage: 3.8 MB\n"
     ]
    }
   ],
   "source": [
    "clean.info()"
   ]
  },
  {
   "cell_type": "code",
   "execution_count": null,
   "metadata": {},
   "outputs": [],
   "source": []
  }
 ],
 "metadata": {
  "kernelspec": {
   "display_name": "Python [conda env:learn-env] *",
   "language": "python",
   "name": "conda-env-learn-env-py"
  },
  "language_info": {
   "codemirror_mode": {
    "name": "ipython",
    "version": 3
   },
   "file_extension": ".py",
   "mimetype": "text/x-python",
   "name": "python",
   "nbconvert_exporter": "python",
   "pygments_lexer": "ipython3",
   "version": "3.6.6"
  }
 },
 "nbformat": 4,
 "nbformat_minor": 2
}
